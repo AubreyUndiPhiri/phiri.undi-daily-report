{
 "cells": [
  {
   "cell_type": "markdown",
   "id": "42a14256-91c8-446e-92a7-ab6bf11055d3",
   "metadata": {},
   "source": [
    "October 1, 2024\n",
    "\n",
    "1 Summations and Products\n",
    "\n",
    "> 1 Compute the following expressions for a natural number *n* chosen\n",
    "> by the user:\n",
    "\n",
    "\n",
    "> *i*=0  \n",
    "> *i* is odd\n",
    "\n",
    "> *i*=0  \n",
    "> *i* is even\n"
   ]
  },
  {
   "cell_type": "code",
   "execution_count": 9,
   "id": "7a147875",
   "metadata": {},
   "outputs": [
    {
     "name": "stdin",
     "output_type": "stream",
     "text": [
      "Enter the value of n: 7\n"
     ]
    },
    {
     "name": "stdout",
     "output_type": "stream",
     "text": [
      "the sum is 18\n"
     ]
    }
   ],
   "source": [
    "n=int(input(\"Enter the value of n:\" ))\n",
    "sum=0\n",
    "L=range(n)\n",
    "for i in L:\n",
    "      if i%2!=0:\n",
    "         sum+=(i+3)\n",
    "print(f\"the sum is {sum}\")"
   ]
  },
  {
   "cell_type": "code",
   "execution_count": 12,
   "id": "b5ef7ba4",
   "metadata": {},
   "outputs": [
    {
     "name": "stdin",
     "output_type": "stream",
     "text": [
      "Enter the value of n: 2\n"
     ]
    },
    {
     "name": "stdout",
     "output_type": "stream",
     "text": [
      "the product is 3\n"
     ]
    }
   ],
   "source": [
    "n=int(input(\"Enter the value of n:\" ))\n",
    "prod=1\n",
    "L=range(n)\n",
    "for i in L:\n",
    "      if i%2==0:\n",
    "         prod*=(i+3)\n",
    "print(f\"the product is {prod}\")\n"
   ]
  },
  {
   "cell_type": "markdown",
   "id": "f253ba20",
   "metadata": {},
   "source": [
    "\n",
    "> 2\\. Write a program that reads the number of the day of the week (from\n",
    "> 0 to 6). If it is a working day, then the program will write the name\n",
    "> of the corresponding day. Otherwise, it will write the word \"Weekend\".\n"
   ]
  },
  {
   "cell_type": "code",
   "execution_count": 24,
   "id": "0f865982",
   "metadata": {},
   "outputs": [
    {
     "name": "stdout",
     "output_type": "stream",
     "text": [
      "its a wednesday\n"
     ]
    }
   ],
   "source": [
    "day= int(input(\"Enter the number of day: \"))\n",
    "\n",
    "if day == 0 or day == 6:\n",
    "    print(\"it is a weekend\")\n",
    "elif day == 1:\n",
    "    print(\"its a Monday\")\n",
    "elif day ==2:\n",
    "    print(\"its a Tuesday\")\n",
    "elif day ==3:\n",
    "    print(\"its a wednesday\")\n",
    "elif day ==4:\n",
    "    print(\"its a Thursday\")\n",
    "elif day ==5:\n",
    "    print(\"its a Friday\")\n",
    "else:\n",
    "    print(\"invalid input\")"
   ]
  },
  {
   "cell_type": "markdown",
   "id": "b10a27ba",
   "metadata": {},
   "source": [
    "3\\. Make a program that, given a month number (from 0 to 11),\n",
    "> indicates how many days it has (28, 30 or 31), ignoring the leap\n",
    "> years.\n",
    ">\n",
    "> "
   ]
  },
  {
   "cell_type": "code",
   "execution_count": 1,
   "id": "84198f00",
   "metadata": {},
   "outputs": [
    {
     "name": "stdin",
     "output_type": "stream",
     "text": [
      "Enter the number of the mont:  9\n"
     ]
    },
    {
     "name": "stdout",
     "output_type": "stream",
     "text": [
      "The month is October and it has 30 days\n"
     ]
    }
   ],
   "source": [
    "day= int(input(\"Enter the number of the mont: \"))\n",
    "\n",
    "a=\"January\"\n",
    "a1=\"February\"\n",
    "a2=\"March\" \n",
    "a3=\"April\"\n",
    "a4=\"May\"\n",
    "a5=\"June\"\n",
    "a6=\"July\"\n",
    "a7=\"August\"\n",
    "a8=\"Sptember\"\n",
    "a9=\"October\"\n",
    "a10=\"November\"\n",
    "a11=\"December\"\n",
    "\n",
    "if day == 0:\n",
    "    print(f\"The month is {a} and it has 31 days\")\n",
    "elif day == 1:\n",
    "      print(f\"The month is {a1} and it has 28 days\")\n",
    "elif day == 2:\n",
    "      print(f\"The month is {a2} and it has 31 days\")\n",
    "elif day == 3:\n",
    "      print(f\"The month is {a3} and it has 30 days\")\n",
    "elif day == 4:\n",
    "      print(f\"The month is {a4} and it has 31 days\")\n",
    "elif day == 5:\n",
    "      print(f\"The month is {a5} and it has 30 days\")\n",
    "elif day == 6:\n",
    "      print(f\"The month is {a6} and it has 31 days\")\n",
    "elif day == 7:\n",
    "      print(f\"The month is {a7} and it has 30 days\")\n",
    "elif day == 8:\n",
    "      print(f\"The month is {a8} and it has 31 days\")\n",
    "elif day == 9:\n",
    "      print(f\"The month is {a9} and it has 30 days\")\n",
    "elif day == 10:\n",
    "      print(f\"The month is {a10} and it has 31 days\")\n",
    "elif day == 11:\n",
    "      print(f\"The month is {a11} and it has 30 days\")\n",
    "else:\n",
    "    print(\"print invalid month\")"
   ]
  },
  {
   "cell_type": "markdown",
   "id": "3eeb75ac",
   "metadata": {},
   "source": [
    "4\\. Write two versions of python code that displays your name 3 times.\n",
    "> One version with a \"for loop\" and another version with a \"while loop\".\n",
    ">\n",
    "> "
   ]
  },
  {
   "cell_type": "code",
   "execution_count": null,
   "id": "12489670",
   "metadata": {},
   "outputs": [],
   "source": [
    "name=input(\"Enter your name\")\n",
    "for i in range(3):\n",
    "    print(name)"
   ]
  },
  {
   "cell_type": "code",
   "execution_count": null,
   "id": "e6e6a71b",
   "metadata": {},
   "outputs": [],
   "source": [
    "name=input(\"Enter your name\")\n",
    "i=0\n",
    "while i in range(3):\n",
    "    print(name)\n",
    "    i=i+1"
   ]
  },
  {
   "cell_type": "markdown",
   "id": "90f8891d",
   "metadata": {},
   "source": [
    "5\\. Given two numbers *a*0 and *a*1, the Fibonacci sequence they\n",
    "> generate is constructed from the recursion formula *an*+1 = *an* +\n",
    "> *an−*1. Calculate the first 15 terms of a Fibonacci sequence, asking\n",
    "> the user the initial values.\n",
    ">\n",
    "> "
   ]
  },
  {
   "cell_type": "code",
   "execution_count": 5,
   "id": "4f3b44cf",
   "metadata": {},
   "outputs": [
    {
     "name": "stdin",
     "output_type": "stream",
     "text": [
      "Enter a0 1\n",
      "Enter a1 1\n"
     ]
    },
    {
     "name": "stdout",
     "output_type": "stream",
     "text": [
      "1\n",
      "1\n",
      "2\n",
      "3\n",
      "5\n",
      "8\n",
      "13\n",
      "21\n",
      "34\n",
      "55\n",
      "89\n",
      "144\n",
      "233\n",
      "377\n",
      "610\n"
     ]
    }
   ],
   "source": [
    "a0 = int(input(\"Enter a0\"))\n",
    "a1 = int(input(\"Enter a1\"))\n",
    "print(a0)\n",
    "print(a1)\n",
    "i = 2\n",
    "while i<15:\n",
    "    a=a1+a0\n",
    "    print(a)\n",
    "    a0=a1\n",
    "    a1=a\n",
    "    i=i+1"
   ]
  },
  {
   "cell_type": "code",
   "execution_count": null,
   "id": "82289257-bdfd-4aac-b2ae-1eb65c15e63f",
   "metadata": {},
   "outputs": [],
   "source": [
    " Compute the first 30 terms of the sequence defined by 2x_(n+2) −x_(n+1) −6x_n = 0 sequence,\n",
    " given any two initial values x0 and x1"
   ]
  },
  {
   "cell_type": "code",
   "execution_count": 16,
   "id": "ec05962e-5774-456a-a1ad-91e1c19f7fb9",
   "metadata": {},
   "outputs": [
    {
     "name": "stdin",
     "output_type": "stream",
     "text": [
      "Enter a0 1\n",
      "Enter a1 1\n"
     ]
    },
    {
     "name": "stdout",
     "output_type": "stream",
     "text": [
      "1\n",
      "1\n",
      "3.3333333333333335\n",
      "4.111111111111111\n",
      "11.37037037037037\n",
      "16.123456790123456\n",
      "39.485596707818935\n",
      "61.53223593964334\n",
      "138.96753543667126\n",
      "230.9192196311538\n",
      "493.87567952039836\n",
      "857.3828854002609\n",
      "1767.4213336946154\n",
      "3161.2891007656544\n",
      "6356.027034672397\n",
      "11602.542980521095\n",
      "22935.595430857556\n",
      "42452.82741851581\n",
      "82957.72876541127\n",
      "155011.05851068452\n",
      "300543.53913312865\n",
      "565214.3552430965\n",
      "1090035.402480418\n",
      "2058988.1998894287\n",
      "3956435.6074043973\n",
      "7495776.468803085\n",
      "14367898.978480887\n",
      "27276629.065902885\n",
      "27276629.065902885\n"
     ]
    }
   ],
   "source": [
    "a0 = int(input(\"Enter a0\"))\n",
    "a1 = int(input(\"Enter a1\"))\n",
    "print(a0)\n",
    "print(a1)\n",
    "i = 2\n",
    "while i<28:\n",
    "    a=a1/3+3*a0\n",
    "    print(a)\n",
    "    a0=a1\n",
    "    a1=a\n",
    "    i=i+1\n",
    "print(a)"
   ]
  },
  {
   "cell_type": "markdown",
   "id": "c2a59441",
   "metadata": {},
   "source": [
    "7\\. a) Write python code to determine whether or not a year is a leap\n",
    "> year. Be sure you know what a leap year is.\n",
    ">\n",
    "> b\\) Write the code using only logical operators, i.e. no conditional\n",
    "> branching.\n",
    "\n",
    "<table>\n",
    "<colgroup>\n",
    "<col style=\"width: 50%\" />\n",
    "<col style=\"width: 50%\" />\n",
    "</colgroup>\n",
    "<thead>\n",
    "<tr class=\"header\">\n",
    "<th><p>8.</p>\n"
   ]
  },
  {
   "cell_type": "code",
   "execution_count": 18,
   "id": "3d27e617-8272-46b3-a410-dd8266c025f4",
   "metadata": {},
   "outputs": [
    {
     "name": "stdin",
     "output_type": "stream",
     "text": [
      "Emter the year:  2013\n"
     ]
    },
    {
     "name": "stdout",
     "output_type": "stream",
     "text": [
      "The year 2013 is not a leap year\n"
     ]
    }
   ],
   "source": [
    "yr=int(input(\"Emter the year: \"))\n",
    "\n",
    "if yr%4==0 and yr%100!=0 or yr%400==0:\n",
    "    print(f\"The year {yr} is a leap year\")\n",
    "else:\n",
    "    print(f\"The year {yr} is not a leap year\")"
   ]
  },
  {
   "cell_type": "code",
   "execution_count": 21,
   "id": "a6c33841-9bf2-488d-8e6e-d28b616fd570",
   "metadata": {},
   "outputs": [
    {
     "name": "stdin",
     "output_type": "stream",
     "text": [
      "Emter the year:  2000\n"
     ]
    },
    {
     "name": "stdout",
     "output_type": "stream",
     "text": [
      "The year 2000 is a leap year : True\n"
     ]
    }
   ],
   "source": [
    "yr=int(input(\"Emter the year: \"))\n",
    "\n",
    "lp_yr=(yr%4==0) and (yr%100!=0 )or (yr%400==0)\n",
    "print(f\"The year {yr} is a leap year : {lp_yr}\")\n"
   ]
  },
  {
   "cell_type": "code",
   "execution_count": null,
   "id": "a1f988af-f32f-4cd0-88dc-6da132047778",
   "metadata": {},
   "outputs": [],
   "source": []
  },
  {
   "cell_type": "code",
   "execution_count": 33,
   "id": "ba5850b4-caf2-4468-addf-bec36f7f2e60",
   "metadata": {},
   "outputs": [
    {
     "name": "stdin",
     "output_type": "stream",
     "text": [
      "Enter an integer:  23\n"
     ]
    },
    {
     "name": "stdout",
     "output_type": "stream",
     "text": [
      "The smallest n such that the sum of squares is ≥ 23 is 4\n"
     ]
    }
   ],
   "source": [
    "n = int(input(\"Enter an integer: \"))\n",
    "\n",
    "sum = 0\n",
    "L=range(1, n+1)\n",
    "for i in L:     \n",
    "  sum += i**2\n",
    "  if sum>=n:\n",
    "    break\n",
    "print(f\"The smallest n such that the sum of squares is ≥ {n} is {i}\")"
   ]
  },
  {
   "cell_type": "code",
   "execution_count": null,
   "id": "4fe3b1d4-93ad-4820-83be-866d319dcd11",
   "metadata": {},
   "outputs": [],
   "source": [
    "n = int(input(\"Enter an integer: \"))\n",
    "\n",
    "i = 2\n",
    "\n",
    "print(f\"Prime factors of {n} are:\")\n",
    "\n",
    "while i * i <= n:\n",
    "    while n % i == 0:\n",
    "        print(i, end=\" \")\n",
    "        n //= i\n",
    "    i += 1\n",
    "\n",
    "if n > 1:\n",
    "    print(n)"
   ]
  },
  {
   "cell_type": "code",
   "execution_count": null,
   "id": "1772f324-d939-4f67-8c34-262ae6bcc16c",
   "metadata": {},
   "outputs": [],
   "source": []
  },
  {
   "cell_type": "markdown",
   "id": "bac27761-4bfc-42b2-8b41-ec9d5e268a61",
   "metadata": {},
   "source": [
    "<p>9.</p></th>\n",
    "<th><blockquote>"
   ]
  },
  {
   "cell_type": "markdown",
   "id": "6d0bbbfa-2965-4fe5-a3c2-6ecc59b001c9",
   "metadata": {},
   "source": [
    "<p>a) Write python code that computes the sum of the square of the first\n",
    "<em>n</em> natural numbers. One version with a \"for loop\" and another\n",
    "version with a \"while loop\".</p>"
   ]
  },
  {
   "cell_type": "markdown",
   "id": "b6b8d671-2745-4d22-8ab8-248513b39f87",
   "metadata": {},
   "source": [
    "<p>b) Write python code that prints, for a natural number <em>M</em>,\n",
    "the smallest natural number <em>n</em> such that 12+22+<em>· ·\n",
    "·</em>+<em>n</em>2<em>≥M.</em> One version with a \"for loop\" and another\n",
    "version with a \"while loop\".</p>\n",
    "<p>a) Write python code that prints all the divisors of a given natural\n",
    "number.</p>\n",
    "</blockquote></th>\n",
    "</tr>\n",
    "</thead>\n",
    "<tbody>\n",
    "</tbody>\n",
    "</table>"
   ]
  },
  {
   "cell_type": "code",
   "execution_count": 23,
   "id": "35a3b741-2dd5-47af-8118-4f8d95cfa8ef",
   "metadata": {},
   "outputs": [
    {
     "name": "stdin",
     "output_type": "stream",
     "text": [
      "enter the number:  5\n"
     ]
    },
    {
     "name": "stdout",
     "output_type": "stream",
     "text": [
      "All divisors of 5 are: \n",
      "1\n",
      "5\n"
     ]
    }
   ],
   "source": [
    "#9a\n",
    "number = int(input(\"enter the number: \"))\n",
    "\n",
    "print(f\"All divisors of {number} are: \")\n",
    "for i in range(1,number + 1):\n",
    "    if number%i == 0:\n",
    "        print(i)"
   ]
  },
  {
   "cell_type": "code",
   "execution_count": 22,
   "id": "6b59b780-a32a-4c97-a8de-f80351fd5cf8",
   "metadata": {},
   "outputs": [
    {
     "name": "stdin",
     "output_type": "stream",
     "text": [
      "Enter a value for M:  458\n"
     ]
    },
    {
     "name": "stdout",
     "output_type": "stream",
     "text": [
      "The smallest n such that the sum of squares is ≥ 458 is: 11\n"
     ]
    }
   ],
   "source": [
    "#9b\n",
    "\n",
    "M = int(input(\"Enter a value for M: \"))\n",
    "\n",
    "sum_of_squares = 0\n",
    "n = 1\n",
    "\n",
    "while sum_of_squares < M:\n",
    "    sum_of_squares += n**2\n",
    "    if sum_of_squares >= M:\n",
    "        break\n",
    "    n += 1\n",
    "\n",
    "print(f\"The smallest n such that the sum of squares is ≥ {M} is: {n}\")"
   ]
  },
  {
   "cell_type": "code",
   "execution_count": null,
   "id": "5c65bb23-c8a4-4352-999f-cf37c406ea07",
   "metadata": {},
   "outputs": [],
   "source": []
  },
  {
   "cell_type": "markdown",
   "id": "b6ce71b9",
   "metadata": {},
   "source": [
    " 10\\. Read an integer number between *n* 0 and 9 and print its\n",
    "> multiplication table up to *N* where *N* is another another natural\n",
    "> number read by the program.\n",
    ">\n",
    "> "
   ]
  },
  {
   "cell_type": "code",
   "execution_count": 24,
   "id": "c0b09229-a9c3-4b11-aad8-7933431297c0",
   "metadata": {},
   "outputs": [
    {
     "name": "stdin",
     "output_type": "stream",
     "text": [
      "Enter an integer between 0 and 9:  8\n",
      "Enter another natural number N:  5\n"
     ]
    },
    {
     "name": "stdout",
     "output_type": "stream",
     "text": [
      "Multiplication table of 8 up to 5:\n",
      "8 x 1 = 8\n",
      "8 x 2 = 16\n",
      "8 x 3 = 24\n",
      "8 x 4 = 32\n",
      "8 x 5 = 40\n"
     ]
    }
   ],
   "source": [
    "num = int(input(\"Enter an integer between 0 and 9: \"))\n",
    "N = int(input(\"Enter another natural number N: \"))\n",
    "\n",
    "if 0 <= num <= 9:\n",
    "    print(f\"Multiplication table of {num} up to {N}:\")\n",
    "    for i in range(1, N + 1):\n",
    "        print(f\"{num} x {i} = {num * i}\")\n",
    "else:\n",
    "    print(\"Invalid input. Please enter a number between 0 and 9.\")"
   ]
  },
  {
   "cell_type": "markdown",
   "id": "061396ee",
   "metadata": {},
   "source": [
    "11\\. Write a program that prints all the numbers between 0 and 40 that\n",
    "> are multiples of 3, 7 or 11.\n",
    ">\n",
    "> "
   ]
  },
  {
   "cell_type": "code",
   "execution_count": null,
   "id": "c81f6e7a-b25d-42b7-8d2b-ed67355cdb29",
   "metadata": {},
   "outputs": [],
   "source": [
    "multiples = [i for i in range(41) if i % 3 == 0 or i % 7 == 0 or i % 11 == 0]\n",
    "print(multiples)"
   ]
  },
  {
   "cell_type": "markdown",
   "id": "7c614362",
   "metadata": {},
   "source": [
    "12\\. Write python code that prints the **floor** of a float *x*.\n",
    "> Recall that the floor of a float *x* is the largest integer value less\n",
    "> than or equal to x, i.e. if *E*\\[*x*\\] is the floor of *x*, then it\n",
    "> satisfies,\n",
    "\n",
    "*E*\\[*x*\\] = 1 + *E*\\[*x −*1\\]\n",
    "\n",
    "PS: On Friday, you will be asked to write a recursive version of the\n",
    "above program.\n",
    "\n",
    "> "
   ]
  },
  {
   "cell_type": "code",
   "execution_count": null,
   "id": "d4cc1053-efe4-4c14-a4c5-592916a96961",
   "metadata": {},
   "outputs": [],
   "source": [
    "x = float(input(\"Enter a float value: \"))\n",
    "floor_x = int(x) if x == int(x) else int(x) - 1 if x < 0 else int(x)\n",
    "print(f\"The floor of {x} is: {floor_x}\")"
   ]
  },
  {
   "cell_type": "markdown",
   "id": "d0d20f18-c023-47b9-9509-d6107081e820",
   "metadata": {},
   "source": [
    "13\\. Given a point in the plane by its Cartesian coordinates,\n",
    "> determine in which quadrant it is (1st, 2nd, 3rd, 4th), if it lies on\n",
    "> an axis, or if it is the origin. Do this for several points in the\n",
    "> same execution of the program until the user quits."
   ]
  },
  {
   "cell_type": "code",
   "execution_count": 25,
   "id": "3d7a0546-1053-4f22-9c2d-e2823e74dd62",
   "metadata": {},
   "outputs": [
    {
     "name": "stdin",
     "output_type": "stream",
     "text": [
      "Enter the x coordinate:  12\n",
      "Enter the y coordinate:  54\n"
     ]
    },
    {
     "name": "stdout",
     "output_type": "stream",
     "text": [
      "The point is in the 1st quadrant.\n"
     ]
    },
    {
     "name": "stdin",
     "output_type": "stream",
     "text": [
      "Do you want to quit? (yes to quit, any other key to continue):  ye\n",
      "Enter the x coordinate:  -1\n",
      "Enter the y coordinate:  5\n"
     ]
    },
    {
     "name": "stdout",
     "output_type": "stream",
     "text": [
      "The point is in the 2nd quadrant.\n"
     ]
    },
    {
     "name": "stdin",
     "output_type": "stream",
     "text": [
      "Do you want to quit? (yes to quit, any other key to continue):  0\n",
      "Enter the x coordinate:  0\n",
      "Enter the y coordinate:  0\n"
     ]
    },
    {
     "name": "stdout",
     "output_type": "stream",
     "text": [
      "The point is at the origin.\n"
     ]
    },
    {
     "name": "stdin",
     "output_type": "stream",
     "text": [
      "Do you want to quit? (yes to quit, any other key to continue):  quit\n",
      "Enter the x coordinate:  6\n",
      "Enter the y coordinate:  8\n"
     ]
    },
    {
     "name": "stdout",
     "output_type": "stream",
     "text": [
      "The point is in the 1st quadrant.\n"
     ]
    },
    {
     "name": "stdin",
     "output_type": "stream",
     "text": [
      "Do you want to quit? (yes to quit, any other key to continue):  yes\n"
     ]
    }
   ],
   "source": [
    "while True:\n",
    "    x = float(input(\"Enter the x coordinate: \"))\n",
    "    y = float(input(\"Enter the y coordinate: \"))\n",
    "\n",
    "    if x == 0 and y == 0:\n",
    "        print(\"The point is at the origin.\")\n",
    "    elif x == 0:\n",
    "        print(\"The point lies on the y-axis.\")\n",
    "    elif y == 0:\n",
    "        print(\"The point lies on the x-axis.\")\n",
    "    elif x > 0 and y > 0:\n",
    "        print(\"The point is in the 1st quadrant.\")\n",
    "    elif x < 0 and y > 0:\n",
    "        print(\"The point is in the 2nd quadrant.\")\n",
    "    elif x < 0 and y < 0:\n",
    "        print(\"The point is in the 3rd quadrant.\")\n",
    "    elif x > 0 and y < 0:\n",
    "        print(\"The point is in the 4th quadrant.\")\n",
    "    \n",
    "    if input(\"Do you want to quit? (yes to quit, any other key to continue): \").lower() == \"yes\":\n",
    "        break\n"
   ]
  },
  {
   "cell_type": "markdown",
   "id": "33c0d5b9-e7bf-4819-91bd-7c5f7953a129",
   "metadata": {},
   "source": [
    "> 14\\. Ask for an integer number between 0 and 9, denoted x. Once the\n",
    "> user has entered a correct number (that is one in the range \\[0..10))\n",
    "> the program asks for a second integer number between 0 and 255,\n",
    "> denoted max. The program continues asking for the number until it is\n",
    "> correct (that it is in the range \\[0..256)). When this is done, show\n",
    "> all multiples of x that are between 0 and max. Then, ask the user\n",
    "> whether he/she wants to continue; if in the affirmative, ask for\n",
    "> another couple of numbers, otherwise finish.\n"
   ]
  },
  {
   "cell_type": "code",
   "execution_count": 26,
   "id": "e1710900-781c-40c3-9365-20e514e10e03",
   "metadata": {},
   "outputs": [
    {
     "name": "stdin",
     "output_type": "stream",
     "text": [
      "Enter an integer between 0 and 9:  8\n",
      "Enter an integer between 0 and 255:  78\n"
     ]
    },
    {
     "name": "stdout",
     "output_type": "stream",
     "text": [
      "Multiples of 8 between 0 and 78: [0, 8, 16, 24, 32, 40, 48, 56, 64, 72]\n"
     ]
    },
    {
     "name": "stdin",
     "output_type": "stream",
     "text": [
      "Do you want to continue? (yes to continue, any other key to quit):  yes\n",
      "Enter an integer between 0 and 9:  7\n",
      "Enter an integer between 0 and 255:  879\n",
      "Invalid. Enter an integer between 0 and 255:  45\n"
     ]
    },
    {
     "name": "stdout",
     "output_type": "stream",
     "text": [
      "Multiples of 7 between 0 and 45: [0, 7, 14, 21, 28, 35, 42]\n"
     ]
    },
    {
     "name": "stdin",
     "output_type": "stream",
     "text": [
      "Do you want to continue? (yes to continue, any other key to quit):  \n"
     ]
    }
   ],
   "source": [
    "while True:\n",
    "    x = int(input(\"Enter an integer between 0 and 9: \"))\n",
    "    while x < 0 or x >= 10:\n",
    "        x = int(input(\"Invalid. Enter an integer between 0 and 9: \"))\n",
    "\n",
    "    max_value = int(input(\"Enter an integer between 0 and 255: \"))\n",
    "    while max_value < 0 or max_value >= 256:\n",
    "        max_value = int(input(\"Invalid. Enter an integer between 0 and 255: \"))\n",
    "\n",
    "    multiples = [i for i in range(max_value + 1) if i % x == 0]\n",
    "    print(f\"Multiples of {x} between 0 and {max_value}: {multiples}\")\n",
    "\n",
    "    if input(\"Do you want to continue? (yes to continue, any other key to quit): \").lower() != \"yes\":\n",
    "        break"
   ]
  },
  {
   "cell_type": "code",
   "execution_count": null,
   "id": "e4cf3a3d-1ca0-42f1-9141-a376b6128a2e",
   "metadata": {},
   "outputs": [],
   "source": []
  }
 ],
 "metadata": {
  "kernelspec": {
   "display_name": "Python 3 (ipykernel)",
   "language": "python",
   "name": "python3"
  },
  "language_info": {
   "codemirror_mode": {
    "name": "ipython",
    "version": 3
   },
   "file_extension": ".py",
   "mimetype": "text/x-python",
   "name": "python",
   "nbconvert_exporter": "python",
   "pygments_lexer": "ipython3",
   "version": "3.12.4"
  }
 },
 "nbformat": 4,
 "nbformat_minor": 5
}
