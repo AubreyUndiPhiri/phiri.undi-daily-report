{
 "cells": [
  {
   "cell_type": "markdown",
   "metadata": {
    "colab_type": "text",
    "id": "view-in-github"
   },
   "source": [
    "<a href=\"https://colab.research.google.com/github/ai-technipreneurs/python_course_colab_notebooks/blob/main/05_Lecture05.ipynb\" target=\"_parent\"><img src=\"https://colab.research.google.com/assets/colab-badge.svg\" alt=\"Open In Colab\"/></a>"
   ]
  },
  {
   "cell_type": "markdown",
   "metadata": {
    "id": "hDFhGBtydVB8"
   },
   "source": [
    "<center>\n",
    "    <a href=\"https://aims-senegal.org/\" ><img src=\"images/logoaimssn.jpeg\" style=\"float:left; max-width: 650px; display: inline\" alt=\"AIMS-SN\"/> </a>\n",
    "    </center>\n",
    "\n",
    "\n",
    "\n",
    "<center>\n",
    "    \n",
    "<a href=\"https://acas-yde.org/\" ><img src=\"images/logo-ACAS.jpg\" style=\"float:right; max-width: 250px; display: inline\" alt=\"ACAS\"/></a>\n",
    "    \n",
    "</center>\n"
   ]
  },
  {
   "cell_type": "markdown",
   "metadata": {
    "id": "JgPFAnzidVB-"
   },
   "source": [
    "****\n",
    "\n",
    "# <center> <b> <span style=\"color:orange;\"> Python Proficiency for Scientific Computing and Data Science (PyPro-SCiDaS)  </span> </b></center>\n",
    "\n",
    "### <center> <b> <span style=\"color:green;\">An Initiation to Programming using Python (Init2Py) </span> </b></center>\n",
    "    \n"
   ]
  },
  {
   "cell_type": "markdown",
   "metadata": {
    "id": "tLJuNn_2dVB_"
   },
   "source": [
    "****\n",
    "\n",
    "# <center> <b> <span style=\"color:blue;\"> Lecture 5: Functions, Modules, and Packages </span> </b></center>\n",
    "\n",
    "<!--NAVIGATION-->\n",
    "<  [4.Flow control](04.Lecture04.ipynb)| [ToC](Index.ipynb) | [6. To come](06.Lecture06.ipynb)>\n",
    "\n",
    "****"
   ]
  },
  {
   "cell_type": "markdown",
   "metadata": {
    "id": "Wtw2SqnYdVB_"
   },
   "source": [
    "### <left> <b> <span style=\"color:brown;\"> Objective: </span> </b></left>\n",
    "\n",
    "\"This lecture aims to introduce the concepts of `functions`, `modules`, and `packages` in Python. We will explore the role and creation of `functions` for organizing and reusing code, delve into `modules` for structuring code into manageable files, and examine `packages` for grouping related modules. By understanding these components, you'll gain the skills to build modular and maintainable Python programs.\"\n",
    "****"
   ]
  },
  {
   "cell_type": "markdown",
   "metadata": {
    "id": "AZyW4b81dVB_"
   },
   "source": [
    "The concepts of `functions`, `modules`, and `packages` are foundational to writing effective and maintainable Python code.\n",
    "\n",
    "- **Functions** are vital for encapsulating and reusing blocks of code. They allow you to perform specific tasks and operations without repeating code, enhancing clarity and reducing errors.\n",
    "\n",
    "- **Modules** help in organizing related functions, classes, and variables into separate files. This modular approach simplifies code management and improves readability by keeping related components together and making code easier to debug and update.\n",
    "\n",
    "- **Packages** take modularity a step further by allowing you to group related modules into directories. This hierarchical structure supports the management of larger codebases, helps avoid name conflicts, and facilitates better dependency management.\n",
    "\n",
    "These elements are crucial for writing organized, scalable, and efficient code, making development more manageable and collaboration more effective."
   ]
  },
  {
   "cell_type": "markdown",
   "metadata": {
    "id": "cYEQ6qKvdVB_"
   },
   "source": [
    "## 0. Functions\n",
    "\n",
    "Simply defined, a function is a piece of code, a set of instructions organized to perform one or more well-defined tasks. In Python, functions are categorized into two types: built-in functions and user-defined functions.\n",
    "\n",
    "- **Built-in functions** are functions that are directly integrated into Python's standard library.\n",
    "- **User-defined functions** are written either by the current user or by other users."
   ]
  },
  {
   "cell_type": "markdown",
   "metadata": {
    "id": "mCutRj8IdVCA"
   },
   "source": [
    "### 0.0. Some built-in functions in Python\n",
    "\n",
    "- **The `print()` function**: As we already know, the **print()** function displays the values of specified objects on the screen:\n",
    "```python\n",
    "print(\"Hello\", \"everyone\")\n",
    "x = 12\n",
    "print(x)\n",
    "y = [1, \"Monday\", \"12\", 5, 3, \"test value\"]\n",
    "print(y)\n",
    "```\n",
    "You can replace the default separator (a space) with another character (or even no character) using the `sep` argument:\n",
    "```python\n",
    "print(\"Hello\", \"everyone\", sep=\"****\")\n",
    "print(\"Hello\", \"everyone\", sep=\"\")\n",
    "```    \n",
    "\n",
    "- **The `input()` function**: The **input()** function allows the user to enter a value for a given argument:\n",
    "```python\n",
    "prenom = input(\"Enter your first name: \")\n",
    "print(\"Hello,\", prenom)\n",
    "```\n",
    "```python\n",
    "print(\"Please enter any positive number: \", end=\" \")\n",
    "ch = input()\n",
    "num = int(ch)  # Convert the string to an integer\n",
    "print(\"The square of\", num, \"is\", num**2)\n",
    "```"
   ]
  },
  {
   "cell_type": "markdown",
   "metadata": {
    "id": "tMFgj2t6dVCA"
   },
   "source": [
    "**Note**: It is important to note that the `input()` function always returns a string. If you need the user to enter a numeric value, you will have to convert the entered value (which will be of type string) into a numeric type using built-in functions like `int()` (for integers) or `float()` (for floating-point numbers)."
   ]
  },
  {
   "cell_type": "markdown",
   "metadata": {
    "id": "PGeKms2mdVCA",
    "jp-MarkdownHeadingCollapsed": true
   },
   "source": [
    "### 0.1. User-defined functions\n",
    "\n",
    "To define a function in Python, use the `def` keyword to declare the function name. The general syntax for defining a function is as follows:\n",
    "\n",
    "```python\n",
    "def functionName([parameter1, parameter2, ..., parameterN]):\n",
    "    \n",
    "    \"\"\"Documentation for the function.\"\"\"\n",
    "    \n",
    "    <block_of_instructions>\n",
    "```\n",
    "\n",
    "In the function definition, the first string of characters (called a docstring) serves as documentation for the function, accessible via the interpreter using, for example, `help(functionName)`, or `functionName?` in *Jupyter*. It should be relevant, concise, and comprehensive. It may also include usage examples.         "
   ]
  },
  {
   "cell_type": "code",
   "execution_count": 63,
   "metadata": {},
   "outputs": [
    {
     "ename": "SyntaxError",
     "evalue": "(unicode error) 'unicodeescape' codec can't decode bytes in position 2-3: truncated \\UXXXXXXXX escape (232513286.py, line 1)",
     "output_type": "error",
     "traceback": [
      "\u001b[1;36m  Cell \u001b[1;32mIn[63], line 1\u001b[1;36m\u001b[0m\n\u001b[1;33m    file=open('C:\\Users\\Aubrey Undi Phiri\\Desktop\\twxt.txt','r')\u001b[0m\n\u001b[1;37m              ^\u001b[0m\n\u001b[1;31mSyntaxError\u001b[0m\u001b[1;31m:\u001b[0m (unicode error) 'unicodeescape' codec can't decode bytes in position 2-3: truncated \\UXXXXXXXX escape\n"
     ]
    }
   ],
   "source": [
    "file=open('C:\\Users\\Aubrey Undi Phiri\\Desktop\\twxt.txt','r')\n",
    "a=file.read()\n",
    "print(a)"
   ]
  },
  {
   "cell_type": "code",
   "execution_count": null,
   "metadata": {},
   "outputs": [],
   "source": []
  },
  {
   "cell_type": "code",
   "execution_count": null,
   "metadata": {},
   "outputs": [],
   "source": []
  },
  {
   "cell_type": "code",
   "execution_count": null,
   "metadata": {},
   "outputs": [],
   "source": []
  },
  {
   "cell_type": "code",
   "execution_count": 8,
   "metadata": {
    "id": "aTMU6TYOdVCB"
   },
   "outputs": [
    {
     "name": "stdout",
     "output_type": "stream",
     "text": [
      "8 x 0 = 0\n",
      "8 x 1 = 8\n",
      "8 x 2 = 16\n",
      "8 x 3 = 24\n",
      "8 x 4 = 32\n",
      "8 x 5 = 40\n",
      "8 x 6 = 48\n",
      "8 x 7 = 56\n",
      "8 x 8 = 64\n",
      "8 x 9 = 72\n",
      "8 x 10 = 80\n",
      "8 x 11 = 88\n",
      "8 x 12 = 96\n",
      "8 x 13 = 104\n",
      "8 x 14 = 112\n",
      "8 x 15 = 120\n",
      "8 x 16 = 128\n",
      "8 x 17 = 136\n",
      "8 x 18 = 144\n",
      "8 x 19 = 152\n",
      "8 x 20 = 160\n"
     ]
    }
   ],
   "source": [
    "#### 0.1.0. Definition of a simple function without arguments**\n",
    "\n",
    "# The example below illustrates the definition of a simple function without arguments. The purpose of this function is to print the first 20 values of the multiplication table for 8.\n",
    "\n",
    "\n",
    "def print_multiples_of_eight():\n",
    "   # \"\"\"Prints the first 20 multiples of 8.\"\"\"\n",
    "    for i in range(21):\n",
    "        print(f\"8 x {i} = {8 * i}\")\n",
    "\n",
    "# Calling the function\n",
    "print_multiples_of_eight()\n"
   ]
  },
  {
   "cell_type": "code",
   "execution_count": 19,
   "metadata": {
    "id": "zN-bE0X8dVCC"
   },
   "outputs": [
    {
     "name": "stdout",
     "output_type": "stream",
     "text": [
      "1 x 8 = 8\n",
      "2 x 8 = 16\n",
      "3 x 8 = 24\n",
      "4 x 8 = 32\n",
      "5 x 8 = 40\n",
      "6 x 8 = 48\n",
      "7 x 8 = 56\n",
      "8 x 8 = 64\n",
      "9 x 8 = 72\n",
      "10 x 8 = 80\n",
      "11 x 8 = 88\n",
      "12 x 8 = 96\n",
      "13 x 8 = 104\n",
      "14 x 8 = 112\n",
      "15 x 8 = 120\n",
      "16 x 8 = 128\n",
      "17 x 8 = 136\n",
      "18 x 8 = 144\n",
      "19 x 8 = 152\n",
      "20 x 8 = 160\n"
     ]
    }
   ],
   "source": [
    "def multiplication_table_8():\n",
    "    \"\"\"\n",
    "    The purpose of this function is to display the first 20\n",
    "    values of the multiplication table for 8.\n",
    "    Input: None\n",
    "    Output: The multiplication table for 8\n",
    "    \"\"\"\n",
    "    n = 1\n",
    "    while n <= 20:\n",
    "        v = n * 8\n",
    "        # print(n, 'x', 8, '=', v, sep=' ')\n",
    "        print(f\"{n} x 8 = {v}\")\n",
    "        n = n + 1\n",
    "    \"\"\"\n",
    "    To execute the function `multiplication_table_8()` that we just defined, simply reference it by its name as follows (anywhere in the main program):\n",
    "    \"\"\"\n",
    "multiplication_table_8()"
   ]
  },
  {
   "cell_type": "code",
   "execution_count": 18,
   "metadata": {
    "id": "T_1QVAwgdVCD"
   },
   "outputs": [
    {
     "name": "stdout",
     "output_type": "stream",
     "text": [
      "1 x 8 = 8\n",
      "2 x 8 = 16\n",
      "3 x 8 = 24\n",
      "4 x 8 = 32\n",
      "5 x 8 = 40\n",
      "6 x 8 = 48\n",
      "7 x 8 = 56\n",
      "8 x 8 = 64\n",
      "9 x 8 = 72\n",
      "10 x 8 = 80\n",
      "11 x 8 = 88\n",
      "12 x 8 = 96\n",
      "13 x 8 = 104\n",
      "14 x 8 = 112\n",
      "15 x 8 = 120\n",
      "16 x 8 = 128\n",
      "17 x 8 = 136\n",
      "18 x 8 = 144\n",
      "19 x 8 = 152\n",
      "20 x 8 = 160\n"
     ]
    }
   ],
   "source": [
    "multiplication_table_8()  # Calls the function tableMultiplication8()"
   ]
  },
  {
   "cell_type": "markdown",
   "metadata": {
    "id": "W6mDXvdjdVCD"
   },
   "source": [
    "****  \n",
    "<left> <b> <span style=\"color:brown;\">Exercise: </span> </b></left>\n",
    "\n",
    "Propose a version of the function `tableMultiplication8()` using a `for` loop.  \n",
    "****"
   ]
  },
  {
   "cell_type": "code",
   "execution_count": 25,
   "metadata": {
    "id": "KGxH9m4tdVCD"
   },
   "outputs": [
    {
     "name": "stdin",
     "output_type": "stream",
     "text": [
      "Enter an integer value you want to find multiples of, n=:7  67\n"
     ]
    },
    {
     "name": "stdout",
     "output_type": "stream",
     "text": [
      "67 x 1 = 67\n",
      "67 x 2 = 134\n",
      "67 x 3 = 201\n",
      "67 x 4 = 268\n",
      "67 x 5 = 335\n",
      "67 x 6 = 402\n",
      "67 x 7 = 469\n",
      "67 x 8 = 536\n",
      "67 x 9 = 603\n",
      "67 x 10 = 670\n",
      "67 x 11 = 737\n",
      "67 x 12 = 804\n",
      "67 x 13 = 871\n",
      "67 x 14 = 938\n",
      "67 x 15 = 1005\n",
      "67 x 16 = 1072\n",
      "67 x 17 = 1139\n",
      "67 x 18 = 1206\n",
      "67 x 19 = 1273\n",
      "67 x 20 = 1340\n",
      "67 x 21 = 1407\n",
      "67 x 22 = 1474\n",
      "67 x 23 = 1541\n",
      "67 x 24 = 1608\n",
      "67 x 25 = 1675\n",
      "67 x 26 = 1742\n",
      "67 x 27 = 1809\n",
      "67 x 28 = 1876\n",
      "67 x 29 = 1943\n",
      "67 x 30 = 2010\n",
      "67 x 31 = 2077\n",
      "67 x 32 = 2144\n",
      "67 x 33 = 2211\n",
      "67 x 34 = 2278\n",
      "67 x 35 = 2345\n",
      "67 x 36 = 2412\n",
      "67 x 37 = 2479\n",
      "67 x 38 = 2546\n",
      "67 x 39 = 2613\n",
      "67 x 40 = 2680\n",
      "67 x 41 = 2747\n",
      "67 x 42 = 2814\n",
      "67 x 43 = 2881\n",
      "67 x 44 = 2948\n",
      "67 x 45 = 3015\n",
      "67 x 46 = 3082\n",
      "67 x 47 = 3149\n",
      "67 x 48 = 3216\n",
      "67 x 49 = 3283\n",
      "67 x 50 = 3350\n",
      "67 x 51 = 3417\n",
      "67 x 52 = 3484\n",
      "67 x 53 = 3551\n",
      "67 x 54 = 3618\n",
      "67 x 55 = 3685\n",
      "67 x 56 = 3752\n",
      "67 x 57 = 3819\n",
      "67 x 58 = 3886\n",
      "67 x 59 = 3953\n",
      "67 x 60 = 4020\n",
      "67 x 61 = 4087\n",
      "67 x 62 = 4154\n",
      "67 x 63 = 4221\n",
      "67 x 64 = 4288\n",
      "67 x 65 = 4355\n",
      "67 x 66 = 4422\n"
     ]
    }
   ],
   "source": [
    "k=int(input(\"Enter an integer value you want to find multiples of: n=\"))\n",
    "def print_multiples_of_eight():\n",
    "    \n",
    "    \"\"\"Prints the first 20 multiples of 8.\"\"\"\n",
    "    for i in range(1, k):\n",
    "        print(f\"{k} x {i} = {k * i}\")\n",
    "print_multiples_of_eight()"
   ]
  },
  {
   "cell_type": "code",
   "execution_count": 43,
   "metadata": {},
   "outputs": [
    {
     "name": "stdin",
     "output_type": "stream",
     "text": [
      "Enter the number you want to find multiples of 76\n"
     ]
    },
    {
     "name": "stdout",
     "output_type": "stream",
     "text": [
      "0 x 76 = 0\n",
      "1 x 76 = 76\n",
      "2 x 76 = 152\n",
      "3 x 76 = 228\n",
      "4 x 76 = 304\n",
      "5 x 76 = 380\n",
      "6 x 76 = 456\n",
      "7 x 76 = 532\n",
      "8 x 76 = 608\n",
      "9 x 76 = 684\n",
      "10 x 76 = 760\n",
      "11 x 76 = 836\n",
      "12 x 76 = 912\n",
      "13 x 76 = 988\n",
      "14 x 76 = 1064\n",
      "15 x 76 = 1140\n",
      "16 x 76 = 1216\n",
      "17 x 76 = 1292\n",
      "18 x 76 = 1368\n",
      "19 x 76 = 1444\n",
      "20 x 76 = 1520\n",
      "21 x 76 = 1596\n",
      "22 x 76 = 1672\n",
      "23 x 76 = 1748\n",
      "24 x 76 = 1824\n",
      "25 x 76 = 1900\n",
      "26 x 76 = 1976\n",
      "27 x 76 = 2052\n",
      "28 x 76 = 2128\n",
      "29 x 76 = 2204\n",
      "30 x 76 = 2280\n",
      "31 x 76 = 2356\n",
      "32 x 76 = 2432\n",
      "33 x 76 = 2508\n",
      "34 x 76 = 2584\n",
      "35 x 76 = 2660\n",
      "36 x 76 = 2736\n",
      "37 x 76 = 2812\n",
      "38 x 76 = 2888\n",
      "39 x 76 = 2964\n",
      "40 x 76 = 3040\n",
      "41 x 76 = 3116\n",
      "42 x 76 = 3192\n",
      "43 x 76 = 3268\n",
      "44 x 76 = 3344\n",
      "45 x 76 = 3420\n",
      "46 x 76 = 3496\n",
      "47 x 76 = 3572\n",
      "48 x 76 = 3648\n",
      "49 x 76 = 3724\n",
      "50 x 76 = 3800\n",
      "51 x 76 = 3876\n",
      "52 x 76 = 3952\n",
      "53 x 76 = 4028\n",
      "54 x 76 = 4104\n",
      "55 x 76 = 4180\n",
      "56 x 76 = 4256\n",
      "57 x 76 = 4332\n",
      "58 x 76 = 4408\n",
      "59 x 76 = 4484\n",
      "60 x 76 = 4560\n",
      "61 x 76 = 4636\n",
      "62 x 76 = 4712\n",
      "63 x 76 = 4788\n",
      "64 x 76 = 4864\n",
      "65 x 76 = 4940\n",
      "66 x 76 = 5016\n",
      "67 x 76 = 5092\n",
      "68 x 76 = 5168\n",
      "69 x 76 = 5244\n",
      "70 x 76 = 5320\n",
      "71 x 76 = 5396\n",
      "72 x 76 = 5472\n",
      "73 x 76 = 5548\n",
      "74 x 76 = 5624\n",
      "75 x 76 = 5700\n"
     ]
    }
   ],
   "source": [
    "def tableMultiplication_n():\n",
    "    \"\"\"\n",
    "    This function takes input from the user and asks them which multiple they want to find\n",
    "    \"\"\"\n",
    "    k=int(input(\"Enter the number you want to find multiples of\"))\n",
    "\n",
    "    for i in range(k):\n",
    "         ans=i*k\n",
    "         print(f\"{i} x {k} = {ans}\")\n",
    "\n",
    "tableMultiplication_n()"
   ]
  },
  {
   "cell_type": "markdown",
   "metadata": {
    "id": "YJJDrgN_dVCD"
   },
   "source": [
    "#### 0.1.1.  Définition d'une fonction dont les arguments sont des paramètres\n",
    "A parameter is a variable that takes a constant value. In the previous example, we created a multiplication table for 8. We can generalize this function so that it returns the multiplication table for any specified number as an argument. Since these numbers are parameters, we need to define a function where the arguments are parameters. See the example below:"
   ]
  },
  {
   "cell_type": "code",
   "execution_count": 44,
   "metadata": {
    "id": "e6liqxNgdVCD"
   },
   "outputs": [],
   "source": [
    "def tableMultiplication(base):\n",
    "    n = 1\n",
    "    while n <=20 :\n",
    "        v=n*base\n",
    "        print(n, 'x', base, '=', v, sep =' ')\n",
    "        n = n +1"
   ]
  },
  {
   "cell_type": "code",
   "execution_count": 45,
   "metadata": {
    "id": "yqNIkCh2dVCD"
   },
   "outputs": [
    {
     "name": "stdout",
     "output_type": "stream",
     "text": [
      "1 x 2 = 2\n",
      "2 x 2 = 4\n",
      "3 x 2 = 6\n",
      "4 x 2 = 8\n",
      "5 x 2 = 10\n",
      "6 x 2 = 12\n",
      "7 x 2 = 14\n",
      "8 x 2 = 16\n",
      "9 x 2 = 18\n",
      "10 x 2 = 20\n",
      "11 x 2 = 22\n",
      "12 x 2 = 24\n",
      "13 x 2 = 26\n",
      "14 x 2 = 28\n",
      "15 x 2 = 30\n",
      "16 x 2 = 32\n",
      "17 x 2 = 34\n",
      "18 x 2 = 36\n",
      "19 x 2 = 38\n",
      "20 x 2 = 40\n",
      "============================\n",
      "\n",
      "1 x 8 = 8\n",
      "2 x 8 = 16\n",
      "3 x 8 = 24\n",
      "4 x 8 = 32\n",
      "5 x 8 = 40\n",
      "6 x 8 = 48\n",
      "7 x 8 = 56\n",
      "8 x 8 = 64\n",
      "9 x 8 = 72\n",
      "10 x 8 = 80\n",
      "11 x 8 = 88\n",
      "12 x 8 = 96\n",
      "13 x 8 = 104\n",
      "14 x 8 = 112\n",
      "15 x 8 = 120\n",
      "16 x 8 = 128\n",
      "17 x 8 = 136\n",
      "18 x 8 = 144\n",
      "19 x 8 = 152\n",
      "20 x 8 = 160\n",
      "============================\n",
      "\n",
      "1 x 11 = 11\n",
      "2 x 11 = 22\n",
      "3 x 11 = 33\n",
      "4 x 11 = 44\n",
      "5 x 11 = 55\n",
      "6 x 11 = 66\n",
      "7 x 11 = 77\n",
      "8 x 11 = 88\n",
      "9 x 11 = 99\n",
      "10 x 11 = 110\n",
      "11 x 11 = 121\n",
      "12 x 11 = 132\n",
      "13 x 11 = 143\n",
      "14 x 11 = 154\n",
      "15 x 11 = 165\n",
      "16 x 11 = 176\n",
      "17 x 11 = 187\n",
      "18 x 11 = 198\n",
      "19 x 11 = 209\n",
      "20 x 11 = 220\n"
     ]
    }
   ],
   "source": [
    "tableMultiplication(2) # returns the multiplication table for 2\n",
    "print(\"============================\\n\")\n",
    "tableMultiplication(8) # returns the multiplication table for 8\n",
    "print(\"============================\\n\")\n",
    "tableMultiplication(11) # returns the multiplication table for 11"
   ]
  },
  {
   "cell_type": "code",
   "execution_count": 46,
   "metadata": {
    "id": "sCAUThYfdVCE"
   },
   "outputs": [
    {
     "name": "stdout",
     "output_type": "stream",
     "text": [
      "Multiplication Table for 8:\n",
      "=========================\n",
      " 1 x  8 =   8\n",
      " 2 x  8 =  16\n",
      " 3 x  8 =  24\n",
      " 4 x  8 =  32\n",
      " 5 x  8 =  40\n",
      " 6 x  8 =  48\n",
      " 7 x  8 =  56\n",
      " 8 x  8 =  64\n",
      " 9 x  8 =  72\n",
      "10 x  8 =  80\n",
      "11 x  8 =  88\n",
      "12 x  8 =  96\n",
      "13 x  8 = 104\n",
      "14 x  8 = 112\n",
      "15 x  8 = 120\n",
      "16 x  8 = 128\n",
      "17 x  8 = 136\n",
      "18 x  8 = 144\n",
      "19 x  8 = 152\n",
      "20 x  8 = 160\n",
      "=========================\n"
     ]
    }
   ],
   "source": [
    "# An example with a nicer display:\n",
    "\n",
    "\n",
    "def multiplication_table(n):\n",
    "    \"\"\"\n",
    "    The purpose of this function is to display the multiplication table for a given number `n`.\n",
    "    Input: n (int) - The number for which the multiplication table will be generated.\n",
    "    Output: The multiplication table for `n`.\n",
    "    \"\"\"\n",
    "    print(f\"Multiplication Table for {n}:\")\n",
    "    print(\"=\" * 25)\n",
    "    for i in range(1, 21):\n",
    "        result = i * n\n",
    "        print(f\"{i:2} x {n:2} = {result:3}\")\n",
    "    print(\"=\" * 25)\n",
    "\n",
    "# Example usage:\n",
    "multiplication_table(8)\n"
   ]
  },
  {
   "cell_type": "markdown",
   "metadata": {
    "id": "yoJTlrXAdVCE"
   },
   "source": [
    "#### 0.1.2.  One or More Parameters, No Return\n",
    "\n",
    "Example without the `return` statement, often referred to as a **procedure**. In this case, the function implicitly returns the value `None`:\n",
    "\n",
    "```python\n",
    "def table(base, start, end):\n",
    "    \"\"\"Displays the multiplication table of <base> from <start> to <end>.\"\"\"\n",
    "    n = start\n",
    "    while n <= end:\n",
    "        print(n, 'x', base, '=', n * base, end=\" \")\n",
    "        n += 1\n",
    "```\n",
    "\n",
    "```python\n",
    "# Example call:\n",
    "table(7, 2, 11)\n",
    "# 2 x 7 = 14 3 x 7 = 21 4 x 7 = 28 5 x 7 = 35 6 x 7 = 42\n",
    "# 7 x 7 = 49 8 x 7 = 56 9 x 7 = 63 10 x 7 = 70 11 x 7 = 77\n",
    "```\n",
    "\n",
    "---"
   ]
  },
  {
   "cell_type": "code",
   "execution_count": null,
   "metadata": {
    "id": "L_xUqQEQdVCE"
   },
   "outputs": [],
   "source": [
    "def table(base, start, end):\n",
    "    \"\"\"Displays the multiplication table of <base> from <start> to <end>.\"\"\"\n",
    "    n = start\n",
    "    while n <= end:\n",
    "        print(n, 'x', base, '=', n * base, end=\" \")\n",
    "        n += 1\n",
    "table(7, 2, 11)"
   ]
  },
  {
   "cell_type": "code",
   "execution_count": null,
   "metadata": {
    "id": "Y8wVYeKDdVCE"
   },
   "outputs": [],
   "source": [
    "# Cool display\n",
    "\n",
    "def table(base, start, end):\n",
    "    \"\"\"Displays the multiplication table of <base> from <start> to <end>.\"\"\"\n",
    "    print(f\"Multiplication Table for {base}:\")\n",
    "    print(f\"{'Number':<10}{'Result':<10}\")\n",
    "    print(\"-\" * 20)\n",
    "    for n in range(start, end + 1):\n",
    "        print(f\"{n:<10}{n * base:<10}\")\n",
    "\n",
    "# Example call:\n",
    "table(7, 2, 11)"
   ]
  },
  {
   "cell_type": "markdown",
   "metadata": {
    "id": "nrZyuqMydVCE"
   },
   "source": [
    "#### One or more parameters, use of Return\n",
    "\n",
    "- Example with a single `return`:\n",
    "\n",
    "```python\n",
    "def square(x):\n",
    "    \"\"\"\n",
    "    Calculate the square of a number.\n",
    "\n",
    "    Args:\n",
    "    x (float): The number to be squared.\n",
    "\n",
    "    Returns:\n",
    "    float: The square of the input number.\n",
    "    \"\"\"\n",
    "    return x**2\n",
    "\n",
    "def squareArea(r):\n",
    "    \"\"\"\n",
    "    Calculate the area of a square given the length of its side.\n",
    "\n",
    "    Args:\n",
    "    r (float): The length of the side of the square.\n",
    "\n",
    "    Returns:\n",
    "    float: The area of the square.\n",
    "    \"\"\"\n",
    "    return square(r)\n",
    "\n",
    "# Input for the side length and display of the area\n",
    "side = float(input('Side: '))\n",
    "print(\"Square area =\", squareArea(side))\n",
    "\n",
    "```"
   ]
  },
  {
   "cell_type": "code",
   "execution_count": null,
   "metadata": {
    "id": "ys_gEnQhdVCE"
   },
   "outputs": [],
   "source": [
    "def square(x):\n",
    "    \"\"\"\n",
    "    Calculate the square of a number.\n",
    "\n",
    "    Args:\n",
    "    x (float): The number to be squared.\n",
    "\n",
    "    Returns:\n",
    "    float: The square of the input number.\n",
    "    \"\"\"\n",
    "    return x**2\n",
    "\n",
    "def squareArea(r):\n",
    "    \"\"\"\n",
    "    Calculate the area of a square given the length of its side.\n",
    "\n",
    "    Args:\n",
    "    r (float): The length of the side of the square.\n",
    "\n",
    "    Returns:\n",
    "    float: The area of the square.\n",
    "    \"\"\"\n",
    "    return square(r)\n",
    "\n",
    "# Input for the side length and display of the area\n",
    "side = float(input('Side: '))\n",
    "print(\"Square area =\", squareArea(side))"
   ]
  },
  {
   "cell_type": "markdown",
   "metadata": {
    "id": "eCjR2BhVdVCE"
   },
   "source": [
    "- Example with multiple returns:\n",
    "\n",
    "```python\n",
    "PI = 3.14\n",
    "\n",
    "def surfaceVolumeSphere(r):\n",
    "    \"\"\"\n",
    "    Calculate the surface area and volume of a sphere.\n",
    "\n",
    "    Args:\n",
    "    r (float): The radius of the sphere.\n",
    "\n",
    "    Returns:\n",
    "    tuple: A tuple containing the surface area and volume of the sphere.\n",
    "    \"\"\"\n",
    "    surf = 4.0 * PI * r**2\n",
    "    vol = surf * r / 3\n",
    "    return surf, vol\n",
    "\n",
    "```\n",
    "\n",
    "\n",
    "```python\n",
    "# Main program\n",
    "radius = float(input('Radius: '))\n",
    "s, v = surfaceVolumeSphere(radius)\n",
    "print(\"Sphere with surface {:g} and volume {:g}\".format(s, v))\n",
    "```"
   ]
  },
  {
   "cell_type": "code",
   "execution_count": 47,
   "metadata": {
    "id": "5T66gJVKdVCE"
   },
   "outputs": [
    {
     "name": "stdin",
     "output_type": "stream",
     "text": [
      "Radius:  45\n"
     ]
    },
    {
     "name": "stdout",
     "output_type": "stream",
     "text": [
      "Sphere with surface 25434 and volume 381510\n"
     ]
    }
   ],
   "source": [
    "PI = 3.14\n",
    "\n",
    "def surfaceVolumeSphere(r):\n",
    "    \"\"\"\n",
    "    Calculate the surface area and volume of a sphere.\n",
    "\n",
    "    Args:\n",
    "    r (float): The radius of the sphere.\n",
    "\n",
    "    Returns:\n",
    "    tuple: A tuple containing the surface area and volume of the sphere.\n",
    "    \"\"\"\n",
    "    surf = 4.0 * PI * r**2\n",
    "    vol = surf * r / 3\n",
    "    return surf, vol\n",
    "\n",
    "radius = float(input('Radius: '))\n",
    "s, v = surfaceVolumeSphere(radius)\n",
    "print(\"Sphere with surface {:g} and volume {:g}\".format(s, v))"
   ]
  },
  {
   "cell_type": "markdown",
   "metadata": {
    "id": "e2_Lz_w1dVCF"
   },
   "source": [
    "### 0.2. **Passing a Function as a Parameter**\n",
    "\n",
    "```python\n",
    "def tabulate(function, lowerBound, upperBound, numSteps):\n",
    "    \"\"\"Display the values of <function>. Conditions: (lowerBound < upperBound) and (numSteps > 0)\"\"\"\n",
    "    h, x = (upperBound - lowerBound) / float(numSteps), lowerBound\n",
    "    while x <= upperBound:\n",
    "        y = function(x)\n",
    "        print(\"f({:.2f}) = {:.2f}\".format(x, y))\n",
    "        x += h\n",
    "```\n",
    "\n",
    "```python\n",
    "def myFunction(x):\n",
    "    return 2 * x**3 + x - 5\n",
    "```\n",
    "```python\n",
    "tabulate(myFunction, -5, 5, 10)\n",
    "# f(-5.00) = -260.00\n",
    "# f(-4.00) = -137.00\n",
    "# ...\n",
    "# f(5.00) = 250.00\n",
    "```"
   ]
  },
  {
   "cell_type": "code",
   "execution_count": null,
   "metadata": {
    "id": "whfbwjXRdVCF"
   },
   "outputs": [],
   "source": [
    "def tabulate(function, lowerBound, upperBound, numSteps):\n",
    "    \"\"\"Display the values of <function>. Conditions: (lowerBound < upperBound) and (numSteps > 0)\"\"\"\n",
    "    h, x = (upperBound - lowerBound) / float(numSteps), lowerBound\n",
    "    while x <= upperBound:\n",
    "        y = function(x)\n",
    "        print(\"f({:.2f}) = {:.2f}\".format(x, y))\n",
    "        x += h\n",
    "\n",
    "\n",
    "def myFunction(x):\n",
    "    return 2 * x**3 + x - 5\n",
    "\n",
    "\n",
    "tabulate(myFunction, -5, 5, 10)\n"
   ]
  },
  {
   "cell_type": "markdown",
   "metadata": {
    "id": "o_xLWZ56dVCF"
   },
   "source": [
    "### Improved Display and Explanation\n",
    "\n",
    "Here’s the improved version of the code with a more structured and readable output, followed by an explanation:\n",
    "\n",
    "```python\n",
    "def tabulate(function, lower_bound, upper_bound, num_steps):\n",
    "    \"\"\"\n",
    "    Displays the values of <function> within the range from <lower_bound> to <upper_bound>.\n",
    "    The function is evaluated at evenly spaced points determined by <num_steps>.\n",
    "    \n",
    "    Parameters:\n",
    "    function (callable): The function to be tabulated.\n",
    "    lower_bound (float): The starting point of the range.\n",
    "    upper_bound (float): The ending point of the range.\n",
    "    num_steps (int): The number of intervals in the range.\n",
    "    \n",
    "    Conditions:\n",
    "    - lower_bound < upper_bound\n",
    "    - num_steps > 0\n",
    "    \"\"\"\n",
    "    step_size = (upper_bound - lower_bound) / float(num_steps)\n",
    "    x = lower_bound\n",
    "    \n",
    "    print(\"Tabulation of the function from {:.2f} to {:.2f} with {} steps:\".format(lower_bound, upper_bound, num_steps))\n",
    "    print(\"----------------------------------------------------------\")\n",
    "    \n",
    "    while x <= upper_bound:\n",
    "        y = function(x)\n",
    "        print(\"f({:+.2f}) = {:+.2f}\".format(x, y))\n",
    "        x += step_size\n",
    "\n",
    "def my_function(x):\n",
    "    \"\"\"A sample function: f(x) = 2x^3 + x - 5\"\"\"\n",
    "    return 2 * x**3 + x - 5\n",
    "\n",
    "# Tabulate the function my_function from -5 to 5 with 10 steps\n",
    "tabulate(my_function, -5, 5, 10)\n",
    "```\n",
    "\n",
    "### Example Output:\n",
    "```\n",
    "Tabulation of the function from -5.00 to 5.00 with 10 steps:\n",
    "----------------------------------------------------------\n",
    "f(-5.00) = -260.00\n",
    "f(-4.00) = -137.00\n",
    "f(-3.00) = -68.00\n",
    "f(-2.00) = -27.00\n",
    "f(-1.00) = -8.00\n",
    "f(+0.00) = -5.00\n",
    "f(+1.00) = -2.00\n",
    "f(+2.00) = +19.00\n",
    "f(+3.00) = +82.00\n",
    "f(+4.00) = +203.00\n",
    "f(+5.00) = +395.00\n",
    "```\n",
    "\n",
    "### Explanation:\n",
    "\n",
    "1. **Function Parameters:**\n",
    "   - **`function`**: This parameter takes a function as its value. In the example, `my_function` is passed, which defines the mathematical expression \\(f(x) = 2x^3 + x - 5\\).\n",
    "   - **`lower_bound`**: The starting point of the range where the function will be evaluated.\n",
    "   - **`upper_bound`**: The endpoint of the range.\n",
    "   - **`num_steps`**: The number of intervals between the lower and upper bounds, determining how many times the function will be evaluated.\n",
    "\n",
    "2. **Step Size Calculation:**\n",
    "   - The **`step_size`** is calculated by dividing the difference between `upper_bound` and `lower_bound` by the number of steps (`num_steps`). This determines how much `x` will increment on each loop iteration.\n",
    "\n",
    "3. **Looping and Evaluation:**\n",
    "   - A `while` loop iterates from `lower_bound` to `upper_bound`, calculating the function value `y` at each point `x`.\n",
    "   - The loop prints each evaluated pair `(x, y)` in a well-formatted string, showing the results of the function evaluation.\n",
    "\n",
    "4. **Output Formatting:**\n",
    "   - The output is formatted to display the values with two decimal places for clarity and readability. The plus (`+`) sign before the numbers ensures both positive and negative signs are displayed.\n",
    "\n",
    "This structure makes it easy to understand how the function behaves over a specified range, providing clear and organized output."
   ]
  },
  {
   "cell_type": "code",
   "execution_count": 58,
   "metadata": {
    "id": "Rc61qIhGdVCF",
    "scrolled": true
   },
   "outputs": [
    {
     "name": "stdout",
     "output_type": "stream",
     "text": [
      "Tabulation of the function from -5.00 to 5.00 with 10 steps:\n",
      "----------------------------------------------------------\n",
      "f(-5.00) = -260.00\n",
      "f(-4.00) = -137.00\n",
      "f(-3.00) = -62.00\n",
      "f(-2.00) = -23.00\n",
      "f(-1.00) = -8.00\n",
      "f(+0.00) = -5.00\n",
      "f(+1.00) = -2.00\n",
      "f(+2.00) = +13.00\n",
      "f(+3.00) = +52.00\n",
      "f(+4.00) = +127.00\n",
      "f(+5.00) = +250.00\n"
     ]
    }
   ],
   "source": [
    "def tabulate(function, lower_bound, upper_bound, num_steps):\n",
    "    \"\"\"\n",
    "    Displays the values of <function> within the range from <lower_bound> to <upper_bound>.\n",
    "    The function is evaluated at evenly spaced points determined by <num_steps>.\n",
    "\n",
    "    Parameters:\n",
    "    function (callable): The function to be tabulated.\n",
    "    lower_bound (float): The starting point of the range.\n",
    "    upper_bound (float): The ending point of the range.\n",
    "    num_steps (int): The number of intervals in the range.\n",
    "\n",
    "    Conditions:\n",
    "    - lower_bound < upper_bound\n",
    "    - num_steps > 0\n",
    "    \"\"\"\n",
    "    step_size = (upper_bound - lower_bound) / float(num_steps)\n",
    "    x = lower_bound\n",
    "\n",
    "    print(\"Tabulation of the function from {:.2f} to {:.2f} with {} steps:\".format(lower_bound, upper_bound, num_steps))\n",
    "    print(\"----------------------------------------------------------\")\n",
    "\n",
    "    while x <= upper_bound:\n",
    "        y = function(x)\n",
    "        print(\"f({:+.2f}) = {:+.2f}\".format(x, y))\n",
    "        x += step_size\n",
    "\n",
    "def my_function(x):\n",
    "    \"\"\"A sample function: f(x) = 2x^3 + x - 5\"\"\"\n",
    "    return 2 * x**3 + x - 5\n",
    "\n",
    "# Tabulate the function my_function from -5 to 5 with 10 steps\n",
    "tabulate(my_function, -5, 5, 10)"
   ]
  },
  {
   "cell_type": "code",
   "execution_count": 57,
   "metadata": {},
   "outputs": [
    {
     "ename": "AttributeError",
     "evalue": "'function' object has no attribute '_doc_'",
     "output_type": "error",
     "traceback": [
      "\u001b[1;31m---------------------------------------------------------------------------\u001b[0m",
      "\u001b[1;31mAttributeError\u001b[0m                            Traceback (most recent call last)",
      "Cell \u001b[1;32mIn[57], line 1\u001b[0m\n\u001b[1;32m----> 1\u001b[0m \u001b[38;5;28mprint\u001b[39m (\u001b[43mmy_function\u001b[49m\u001b[38;5;241;43m.\u001b[39;49m\u001b[43m_doc_\u001b[49m)\n",
      "\u001b[1;31mAttributeError\u001b[0m: 'function' object has no attribute '_doc_'"
     ]
    }
   ],
   "source": [
    "print (my_function._doc_)"
   ]
  },
  {
   "cell_type": "code",
   "execution_count": 59,
   "metadata": {
    "id": "ubbaZhXrdVCG"
   },
   "outputs": [],
   "source": [
    "def greeting(name, title='Monsieur'):\n",
    "    \"\"\"\n",
    "    Displays a greeting message with the given name and an optional title.\n",
    "\n",
    "    Parameters:\n",
    "    name (str): The name of the person to greet.\n",
    "    title (str, optional): The title of the person (default is 'Monsieur').\n",
    "\n",
    "    Returns:\n",
    "    None\n",
    "    \"\"\"\n",
    "    print(\"Bonjour\", title, name)"
   ]
  },
  {
   "cell_type": "markdown",
   "metadata": {
    "id": "0goCUwRfdVCG"
   },
   "source": [
    "**Example Usage:**\n",
    "\n",
    "```python\n",
    "greeting('Dupont')\n",
    "# Output: Bonjour Monsieur Dupont\n",
    "```"
   ]
  },
  {
   "cell_type": "code",
   "execution_count": null,
   "metadata": {
    "id": "obzBu8asdVCG"
   },
   "outputs": [],
   "source": [
    "greeting('Dupont')\n",
    "# Output: Bonjour Monsieur Dupont"
   ]
  },
  {
   "cell_type": "markdown",
   "metadata": {
    "id": "7y2owTOSdVCG"
   },
   "source": [
    "- **Explanation**:  \n",
    "  When the function is called with both arguments, the default value is overridden by the provided value."
   ]
  },
  {
   "cell_type": "markdown",
   "metadata": {
    "id": "5Nub2eAHdVCH"
   },
   "source": [
    "**Example:**\n",
    "\n",
    "```python\n",
    "greeting('Dupont', 'Mademoiselle')\n",
    "# Output: Bonjour Mademoiselle Dupont\n",
    "```"
   ]
  },
  {
   "cell_type": "code",
   "execution_count": null,
   "metadata": {
    "id": "2JFTgIXkdVCH"
   },
   "outputs": [],
   "source": [
    "greeting('Dupont', 'Mademoiselle')\n",
    "# Output: Bonjour Mademoiselle Dupont"
   ]
  },
  {
   "cell_type": "markdown",
   "metadata": {
    "id": "XDgcbZiYdVCH"
   },
   "source": [
    "- **Explanation**:  \n",
    "  By defining default values for a function's arguments, you can make the function calls more flexible, allowing it to be called with only a subset of the expected arguments when needed."
   ]
  },
  {
   "cell_type": "markdown",
   "metadata": {
    "id": "AAL_x429dVCH"
   },
   "source": [
    "\n",
    "**Note:**\n",
    "\n",
    "Arguments without default values must be specified before arguments with default values. If this rule is not followed, Python will raise an error during execution. For example, the following function definition is incorrect:\n",
    "\n",
    "```python\n",
    "def greeting(title='Monsieur', name):\n",
    "    \"\"\"\n",
    "    This function is incorrectly defined and will raise an error because the argument\n",
    "    with a default value ('title') comes before an argument without a default value ('name').\n",
    "    \n",
    "    Parameters:\n",
    "    title (str, optional): The title of the person (default is 'Monsieur').\n",
    "    name (str): The name of the person to greet.\n",
    "    \n",
    "    Returns:\n",
    "    None\n",
    "    \"\"\"\n",
    "```\n",
    "\n",
    "- **Explanation**:  \n",
    "  The `greeting` function is defined incorrectly because `title`, an argument with a default value, is placed before `name`, an argument without a default value. In Python, arguments without default values must precede those with default values to avoid a syntax error."
   ]
  },
  {
   "cell_type": "code",
   "execution_count": null,
   "metadata": {
    "id": "9A2DLsV4dVCH"
   },
   "outputs": [],
   "source": [
    "def salutation(titre='Monsieur', name):"
   ]
  },
  {
   "cell_type": "markdown",
   "metadata": {
    "id": "momKUtcAdVCH"
   },
   "source": [
    "### 0.4. Lambda Functions\n",
    "\n",
    "A lambda function is an anonymous function, meaning it is a function that consists of a block of instructions that can be called and reused like a regular function but without a name. Lambda functions are typically used for very short functions with few instructions, which do not require a full function definition using the `def` keyword.\n",
    "\n",
    "The general syntax for defining a lambda function is as follows:\n",
    "\n",
    "```python\n",
    "lambda arg1, arg2, ..., argN : instruction_block (or formula)\n",
    "```\n",
    "\n",
    "The example below illustrates the definition of a lambda function:\n",
    "\n",
    "```python\n",
    "lambda x, y : x * y\n",
    "```"
   ]
  },
  {
   "cell_type": "markdown",
   "metadata": {
    "id": "ks-sej-qdVCI"
   },
   "source": [
    "Notons toutefois que même si la fonction lambda n’est pas définie avec un nom, pour\n",
    "récupérer la valeur renvoyée, lors de l’appel de la fonction, il faut l’assigner à une nouvelle\n",
    "variable. L’exemple ci-dessous illustre l’appel de la fonction lambda précédente en prenant x=2\n",
    "et y=3.\n",
    "```python\n",
    "   x = lambda x, y : x * y\n",
    "   x(2,3)\n",
    "```"
   ]
  },
  {
   "cell_type": "code",
   "execution_count": null,
   "metadata": {
    "id": "gmJfO588dVCI"
   },
   "outputs": [],
   "source": [
    "x = lambda x, y : x * y\n",
    "x(2,3)"
   ]
  },
  {
   "cell_type": "markdown",
   "metadata": {
    "id": "dUIzH0HrdVCJ"
   },
   "source": [
    "<left> <b> <span style=\"color:red;\">\n",
    "Note: When we define variables inside a function, these variables are only accessible within that function itself. These variables are referred to as `« local »` to the function. However, when variables are defined outside of the function in the main program body, they are called `« global »` variables. The content of a global variable is visible and accessible from within a function, but the function cannot modify the value of the variable.</span> </b></left>\n",
    "\n",
    "```python\n",
    "def myFunction():\n",
    "    p = 20\n",
    "    print(p, q)\n",
    "\n",
    "p = 15\n",
    "q = 38\n",
    "\n",
    "print(p, q)  # Outputs: 15 38\n",
    "myFunction()  # Calls the function, Outputs: 20 38\n",
    "print(p, q)  # Outputs: 15 38\n",
    "```"
   ]
  },
  {
   "cell_type": "code",
   "execution_count": 50,
   "metadata": {
    "id": "0eGOtvhqdVCJ"
   },
   "outputs": [
    {
     "name": "stdout",
     "output_type": "stream",
     "text": [
      "15 38\n",
      "20 38\n",
      "15 38\n"
     ]
    }
   ],
   "source": [
    "\n",
    "def myFunction():\n",
    "    p = 20\n",
    "    print(p, q)\n",
    "\n",
    "p = 15\n",
    "q = 38\n",
    "\n",
    "print(p, q)  # Outputs: 15 38\n",
    "myFunction()  # Calls the function, Outputs: 20 38\n",
    "print(p, q)  # Outputs: 15 38\n"
   ]
  },
  {
   "cell_type": "markdown",
   "metadata": {
    "id": "NfOs04xydVCJ"
   },
   "source": [
    "**Explanation:**\n",
    "\n",
    "1. **Global and Local Variables:**\n",
    "   - The variables `p` and `q` are defined in the global scope, outside the function `myFunction()`. Hence, they are global variables.\n",
    "   - Inside `myFunction()`, a new variable `p` is defined with the value `20`. This `p` is local to the function and does not affect the global `p`.\n",
    "\n",
    "2. **Output Analysis:**\n",
    "   - **Before Function Call (`print(p, q)`):** This prints the global values of `p` and `q`, which are `15` and `38`, respectively.\n",
    "   - **Inside Function (`myFunction()`):** When `myFunction()` is called, it prints the local `p` (which is `20`) and the global `q` (which remains `38`). The local `p` inside the function shadows the global `p` but does not change it.\n",
    "   - **After Function Call (`print(p, q)`):** This again prints the global values of `p` and `q`, which are still `15` and `38`, as the local `p` inside the function did not alter the global `p`."
   ]
  },
  {
   "cell_type": "markdown",
   "metadata": {
    "id": "UdG1r8BDdVCJ"
   },
   "source": [
    "\n",
    "However, you can modify this default behavior by allowing the function to modify the value of a global variable. To do this, you must explicitly declare the variable as global within the function. Example:\n",
    "\n",
    "```python\n",
    "def myFunction():\n",
    "    global p\n",
    "    p = 20\n",
    "    print(p, q)\n",
    "\n",
    "p = 15\n",
    "q = 38\n",
    "\n",
    "print(p, q)  # Outputs: 15 38\n",
    "myFunction()  # Calls the function, Outputs: 20 38\n",
    "print(p, q)  # Outputs: 20 38\n",
    "```\n",
    "\n",
    "**Explanation:**\n",
    "\n",
    "1. **Global Declaration:**\n",
    "   - Inside `myFunction()`, the `global` keyword is used to indicate that `p` refers to the global variable `p`, not a new local variable.\n",
    "\n",
    "2. **Output Analysis:**\n",
    "   - **Before Function Call (`print(p, q)`):** This prints the global values of `p` and `q`, which are `15` and `38`, respectively.\n",
    "   - **Inside Function (`myFunction()`):** When `myFunction()` is called, it sets the global `p` to `20` and prints this new value of `p` along with the global `q` (which remains `38`).\n",
    "   - **After Function Call (`print(p, q)`):** This prints the updated global values of `p` and `q`, which are now `20` and `38`, respectively, reflecting the change made inside `myFunction()`."
   ]
  },
  {
   "cell_type": "code",
   "execution_count": 56,
   "metadata": {
    "id": "4nrsJ-hodVCJ"
   },
   "outputs": [
    {
     "name": "stdout",
     "output_type": "stream",
     "text": [
      "15 38\n",
      "20 38\n",
      "20 38\n"
     ]
    }
   ],
   "source": [
    "def myFunction():\n",
    "    global p\n",
    "    p = 20\n",
    "    print(p, q)\n",
    "\n",
    "p = 15\n",
    "q = 38\n",
    "\n",
    "print(p, q)  # Outputs: 15 38\n",
    "myFunction()  # Calls the function, Outputs: 20 38\n",
    "print(p, q)  # Outputs: 20 38"
   ]
  },
  {
   "cell_type": "markdown",
   "metadata": {
    "id": "9-_fesQidVCJ"
   },
   "source": [
    "### 0.5. Arbitrary number of arguments\n",
    "\n",
    "#### 0.5.0. Passing a Tuple"
   ]
  },
  {
   "cell_type": "code",
   "execution_count": 51,
   "metadata": {
    "id": "kjCHJkHbdVCK"
   },
   "outputs": [
    {
     "name": "stdout",
     "output_type": "stream",
     "text": [
      "23\n",
      "78\n"
     ]
    }
   ],
   "source": [
    "def somme(*args):\n",
    "    \"\"\"Returns the sum of the <tuple>.\"\"\"\n",
    "    resultat = 0\n",
    "    for nombre in args:\n",
    "        resultat += nombre\n",
    "    return resultat\n",
    "\n",
    "# Example calls:\n",
    "print(somme(23)) # 23\n",
    "print(somme(23, 42, 13)) # 78\n"
   ]
  },
  {
   "cell_type": "markdown",
   "metadata": {
    "id": "J54WzTsudVCK"
   },
   "source": [
    "```python\n",
    "If the function has multiple arguments, the *tuple* is in the last position. It is also possible to pass a tuple (or actually a sequence) to the call, which will be unpacked into a list of parameters for a \"classic\" function:\n",
    "\n",
    "```python\n",
    "def somme(a, b, c):\n",
    "    return a + b + c\n",
    "\n",
    "# Example call:\n",
    "elements = (2, 4, 6)\n",
    "print(somme(*elements)) # 12\n",
    "```"
   ]
  },
  {
   "cell_type": "markdown",
   "metadata": {
    "id": "I03sRObidVCK"
   },
   "source": [
    "#### 0.5.1. Passing a Dictionary"
   ]
  },
  {
   "cell_type": "code",
   "execution_count": 52,
   "metadata": {
    "id": "f0XRhf9GdVCK"
   },
   "outputs": [
    {
     "name": "stdout",
     "output_type": "stream",
     "text": [
      "{'a': 23, 'b': 42}\n",
      "{'d': 85, 'e': 14, 'f': 9}\n"
     ]
    }
   ],
   "source": [
    "def unDict(**kargs):\n",
    "    return kargs\n",
    "\n",
    "# Examples of calls\n",
    "## Using named parameters:\n",
    "print(unDict(a=23, b=42)) # {'a': 23, 'b': 42}\n",
    "\n",
    "## Providing a dictionary:\n",
    "mots = {'d': 85, 'e': 14, 'f': 9}\n",
    "print(unDict(**mots)) # {'d': 85, 'e': 14, 'f': 9}\n"
   ]
  },
  {
   "cell_type": "markdown",
   "metadata": {
    "id": "9X9Sj7O4dVCK"
   },
   "source": [
    "### 0.6. Documenting a Function\n",
    "\n",
    "After creating a function (especially a relatively long and complex one), it is highly recommended to document it to allow other users to understand it quickly. Function documentation is typically a string that provides an overview of the function and useful details. This description is generally specified right after the function's name declaration and before the definition of other instruction blocks. The example below illustrates how to document a function and how to access this documentation when needed."
   ]
  },
  {
   "cell_type": "code",
   "execution_count": 53,
   "metadata": {
    "id": "WLVOXMt-dVCK"
   },
   "outputs": [],
   "source": [
    "def volumeSphere():\n",
    "    \"\"\" This program calculates the volume of a sphere.\n",
    "    The function is defined with a single required argument r\n",
    "    which represents the radius of the sphere.\n",
    "    It can take any positive value.\"\"\"\n",
    "    r = float(input(\"Enter the radius of the sphere: \"))\n",
    "    PI = 3.14\n",
    "    return (4 * PI * r**3) / 3\n"
   ]
  },
  {
   "cell_type": "markdown",
   "metadata": {
    "id": "-2d46uD9dVCL"
   },
   "source": [
    "In the definition of the `volumeSphere` function, the string does not play any functional role in the script; it is treated by Python as a simple comment but is stored as internal documentation for the function. This documentation is stored in an attribute called `__doc__`. To display this attribute, you use:\n",
    "\n",
    "```python\n",
    "print(volumeSphere.__doc__)\n",
    "```"
   ]
  },
  {
   "cell_type": "code",
   "execution_count": 55,
   "metadata": {
    "id": "dbiYD5didVCL"
   },
   "outputs": [
    {
     "name": "stdout",
     "output_type": "stream",
     "text": [
      " This program calculates the volume of a sphere.\n",
      "    The function is defined with a single required argument r\n",
      "    which represents the radius of the sphere.\n",
      "    It can take any positive value.\n"
     ]
    }
   ],
   "source": [
    "print(volumeSphere.__doc__)"
   ]
  },
  {
   "cell_type": "markdown",
   "metadata": {
    "id": "3c77kI2rdVCL"
   },
   "source": [
    "## 1. Modules\n",
    "\n",
    "A Python program is generally composed of several source files, called *modules*. Their names have the `.py` suffix. If correctly coded, modules should be independent of each other and reusable on demand in other programs.\n",
    "\n",
    "**Modules are files that group sets of functions.** A **module** is an independent file that allows a program to be split into several scripts. This mechanism allows for the efficient creation of function or class libraries.\n",
    "\n",
    "**Advantages of modules:**\n",
    "- Code reuse;\n",
    "- Documentation and tests can be integrated into the module;\n",
    "- Implementation of shared services or data;\n",
    "- Partitioning of the system's namespace.\n",
    "\n",
    "Just as dictionaries are collections of objects (lists, tuples, sets, etc.), modules are collections of functions that perform related tasks. For example, the `math` module contains a number of mathematical functions such as sine, cosine, tangent, square root, etc. Many modules are already pre-installed in Python's standard library. However, to perform certain specific tasks, you often need to install additional modules (e.g., `numpy`, `scipy`, `matplotlib`, `pandas`, etc.)."
   ]
  },
  {
   "cell_type": "markdown",
   "metadata": {
    "id": "bVCBIglDdVCL"
   },
   "source": [
    "### 1.0. Importing a Module\n",
    "\n",
    "There are two possible syntaxes:\n",
    "\n",
    "- The `import nom_module` command imports all objects from the module:\n",
    "  ```python\n",
    "     import tkinter\n",
    "  ```\n",
    "- The `from <nom_module> import obj1, obj2` command imports only the specified objects `obj1, obj2...` from the module:\n",
    "  ```python\n",
    "     from math import pi, sin, log\n",
    "  ```\n",
    "\n",
    "It is recommended to import in the following order:\n",
    "- Standard library modules;\n",
    "- Third-party library modules;\n",
    "- Personal modules."
   ]
  },
  {
   "cell_type": "markdown",
   "metadata": {
    "id": "VUfuqeUAdVCL"
   },
   "source": [
    "### 1.1. The Standard Library\n",
    "\n",
    "It is often said that Python comes \"batteries included\" due to its standard library, which is rich with over 200 packages and modules designed to address a wide range of common problems. See [The Python Standard Library](https://docs.python.org/3/library/index.html)."
   ]
  },
  {
   "cell_type": "code",
   "execution_count": null,
   "metadata": {
    "id": "mcaMJxzHdVCL"
   },
   "outputs": [],
   "source": [
    "import math\n",
    "dir(math)  # To see the list of functions and attributes in the module."
   ]
  },
  {
   "cell_type": "code",
   "execution_count": null,
   "metadata": {
    "id": "HlPLSL9KdVCL"
   },
   "outputs": [],
   "source": [
    "help(math.gamma)  # Displays the documentation for the gamma function in the math module."
   ]
  },
  {
   "cell_type": "code",
   "execution_count": null,
   "metadata": {
    "id": "McfB1U6IdVCL"
   },
   "outputs": [],
   "source": [
    "from math import sin  # Imports the sine function\n",
    "\n",
    "from math import cos, sin, tan, pi  # Imports the cosine, sine, tangent functions, and the value of pi (3.14)\n"
   ]
  },
  {
   "cell_type": "code",
   "execution_count": null,
   "metadata": {
    "id": "0DZHD7t-dVCM"
   },
   "outputs": [],
   "source": [
    "from math import *  # Imports all functions and constants from the math module (equivalent to import math)\n"
   ]
  },
  {
   "cell_type": "markdown",
   "metadata": {
    "id": "JwKUxklUdVCM"
   },
   "source": [
    "<left> <b> <span style=\"color:brown;\">Some uses of the math function: </span> </b></left>\n",
    "\n",
    "```python\n",
    "from math import *\n",
    "\n",
    "v = 16  # defines a variable v\n",
    "x = sqrt(v)  # Returns the square root of v\n",
    "y = exp(v)   # Returns the exponential of v\n",
    "z = log(v)   # Returns the natural logarithm of v\n",
    "```"
   ]
  },
  {
   "cell_type": "code",
   "execution_count": null,
   "metadata": {
    "id": "W99VMCU4dVCM"
   },
   "outputs": [],
   "source": [
    "from math import *\n",
    "v = 16  # defines a variable v\n",
    "x = sqrt(v)  # Returns the square root of v\n",
    "y = exp(v)   # Returns the exponential of v\n",
    "z = log(v)   # Returns the natural logarithm of v\n",
    "print(v, x, y, z)"
   ]
  },
  {
   "cell_type": "markdown",
   "metadata": {
    "id": "EXG0SudEdVCM"
   },
   "source": [
    "<left> <b> <span style=\"color:brown;\">Some examples of using the random module: </span> </b></left>\n",
    "\n",
    "```python\n",
    "from random import random, randint, seed, uniform, randrange, sample, shuffle  # Imports some useful functions from random\n",
    "```"
   ]
  },
  {
   "cell_type": "code",
   "execution_count": null,
   "metadata": {
    "id": "IJp8BIc6dVCM"
   },
   "outputs": [],
   "source": [
    "import random\n",
    "\n",
    "x = random.random()  # Returns a random number between 0.0 and 1.0\n",
    "print(x)\n"
   ]
  },
  {
   "cell_type": "code",
   "execution_count": null,
   "metadata": {
    "id": "yn0H7bVydVCM"
   },
   "outputs": [],
   "source": [
    "import random\n",
    "\n",
    "x = random.randint(5, 17)  # Returns a random integer between 5 and 17 (inclusive)\n",
    "print(x)\n"
   ]
  },
  {
   "cell_type": "code",
   "execution_count": null,
   "metadata": {
    "id": "0GC_mX2JdVCN"
   },
   "outputs": [],
   "source": [
    "import random\n",
    "\n",
    "x = random.uniform(5, 17)  # Returns a random floating-point number between 5 and 17\n",
    "print(x)\n"
   ]
  },
  {
   "cell_type": "markdown",
   "metadata": {
    "id": "6e2YPAckdVCN"
   },
   "source": [
    "## Feel free to explore the `turtle`, `time`, `decimal`, `fractions`, `cmath` modules."
   ]
  },
  {
   "cell_type": "markdown",
   "metadata": {
    "id": "jMXyG4HldVCN"
   },
   "source": [
    "### 1.2. Third-Party Libraries\n",
    "\n",
    "In addition to the modules included in the standard Python distribution, you can find libraries in various fields:\n",
    "- Scientific\n",
    "- Databases\n",
    "- Functional testing and quality control\n",
    "- 3D\n",
    "- ...\n",
    "\n",
    "The [PYPI](https://pypi.org/) (The Python Package Index) lists thousands of modules and packages!"
   ]
  },
  {
   "cell_type": "markdown",
   "metadata": {
    "id": "1h1zG48ydVCN"
   },
   "source": [
    "### 1.3. Define and use your own module\n",
    "\n",
    "You can create your own module by gathering several functions into a single script and saving it with the `.py` extension in the current directory. The name should be simple and not create ambiguity with other Python objects. For example, you might choose `myprogram.py`.\n",
    "\n",
    "Once the script is saved in the current directory, you can import the module like a standard module, and all its functions (and variables) become accessible. The module is imported using the command:\n",
    "\n",
    "```python\n",
    "import myprogram\n",
    "```\n",
    "\n",
    "You can then use the functions from the module as you would with any standard module. For example:\n",
    "\n",
    "```python\n",
    "# myprogram.py\n",
    "def greet(name):\n",
    "    \"\"\"Returns a greeting message.\"\"\"\n",
    "    return f\"Hello, {name}!\"\n",
    "\n",
    "def add(a, b):\n",
    "    \"\"\"Returns the sum of two numbers.\"\"\"\n",
    "    return a + b\n",
    "```\n",
    "\n",
    "```python\n",
    "# main.py\n",
    "import myprogram\n",
    "\n",
    "print(myprogram.greet(\"Alice\"))  # Output: Hello, Alice!\n",
    "print(myprogram.add(5, 7))       # Output: 12\n",
    "```"
   ]
  },
  {
   "cell_type": "markdown",
   "metadata": {
    "id": "E_zY07vmdVCN"
   },
   "source": [
    "Open your preferred text editor and write the following code, which you should save as `cube_m.py`:\n",
    "\n",
    "```python\n",
    "# A module named cube_m.py\n",
    "def cube(y):\n",
    "    \"\"\"Calculates the cube of the parameter <y>.\"\"\"\n",
    "    return y**3\n",
    "\n",
    "\n",
    "# Self-test ----------------------------------------------------\n",
    "if __name__ == \"__main__\": # False when imported ==> ignored\n",
    "    help(cube)\n",
    "    # displays the docstring of the function\n",
    "    print(\"cube of 9:\", cube(9)) # cube of 9: 729\n",
    "```\n",
    "\n",
    "```python\n",
    "# Using this module. We import the function cube() from the file cube_m.py:\n",
    "from cube_m import cube\n",
    "\n",
    "for i in range(1, 4):\n",
    "    print(\"cube of\", i, \"=\", cube(i), end=\" \")\n",
    "# cube of 1 = 1 cube of 2 = 8 cube of 3 = 27\n",
    "```"
   ]
  },
  {
   "cell_type": "markdown",
   "metadata": {
    "id": "5WXhYG4LdVCN"
   },
   "source": [
    "## 2. Package\n",
    "\n",
    "A second level of organization allows for structuring the code: Python files can be organized in a directory hierarchy called a `package`.\n",
    "\n",
    "More simply, a *package* is a module containing other modules. The modules in a package can be *sub-packages*, creating a tree-like structure. In summary, a package is simply a directory that contains modules and an `__init__.py` file describing the package's structure. Example:\n"
   ]
  },
  {
   "cell_type": "markdown",
   "metadata": {
    "id": "fz5W4rVYdVCN"
   },
   "source": [
    "### In a terminal, do the following:\n",
    "\n",
    "- `mkdir monpackage`;\n",
    "- `cd monpackage`;\n",
    "- `touch __init__.py`;\n",
    "- `touch mesfonctions.py`\n",
    "  - This file contains two Python functions:\n",
    "  \n",
    "     ```python\n",
    "        def additionner(a, b):\n",
    "            return a + b\n",
    "\n",
    "        def soustraire(a, b):\n",
    "            return a - b\n",
    "\n",
    "     ```\n",
    "- `touch mesattributs.py`\n",
    "    - This file contains two constants:\n",
    "   ```python\n",
    "      x = 100\n",
    "      y = 95\n",
    "    ```\n",
    "    \n",
    "    \n",
    "### Then  do this:\n",
    "\n",
    "This sequence of code demonstrates how to use the functions and constants defined in the `monpackage` package:\n",
    "\n",
    "1. **Importing and Using Functions:**\n",
    "   ```python\n",
    "   from monpackage import mesfonctions\n",
    "   mesfonctions.additionner(23, 89) == 112  # Returns True\n",
    "   ```\n",
    "   - Here, the `additionner` function is imported from the `mesfonctions` module within the `monpackage` package.\n",
    "   - `mesfonctions.additionner(23, 89)` calls the `additionner` function with arguments `23` and `89`.\n",
    "   - The function returns `112`, which matches the expected result, so the expression `mesfonctions.additionner(23, 89) == 112` evaluates to `True`.\n",
    "\n",
    "2. **Importing and Using Constants:**\n",
    "   ```python\n",
    "   from monpackage import mesattributs\n",
    "   mesattributs.x == 100  # Returns True\n",
    "   ```\n",
    "   - Here, the constant `x` is imported from the `mesattributs` module within the `monpackage` package.\n",
    "   - `mesattributs.x` accesses the constant `x` which is defined as `100`.\n",
    "   - The expression `mesattributs.x == 100` evaluates to `True` since the value of `x` is indeed `100`.    \n"
   ]
  },
  {
   "cell_type": "code",
   "execution_count": null,
   "metadata": {
    "id": "3twWykt-dVCO"
   },
   "outputs": [],
   "source": [
    "from monpackage import mesfonctions"
   ]
  },
  {
   "cell_type": "code",
   "execution_count": null,
   "metadata": {
    "id": "wcsL2W0EdVCO"
   },
   "outputs": [],
   "source": [
    "mesfonctions.additionner(23,89) == 112  # Returns True"
   ]
  },
  {
   "cell_type": "code",
   "execution_count": null,
   "metadata": {
    "id": "0ngeu_m7dVCO"
   },
   "outputs": [],
   "source": [
    "from monpackage import mesattributs"
   ]
  },
  {
   "cell_type": "code",
   "execution_count": null,
   "metadata": {
    "id": "jR9AevdQdVCO"
   },
   "outputs": [],
   "source": [
    "mesattributs.x == 100 # Returns True"
   ]
  },
  {
   "cell_type": "markdown",
   "metadata": {
    "id": "BPXzFMaNdVCO"
   },
   "source": [
    "<!--NAVIGATION-->\n",
    "<  [4.Flow control](04_Lecture04.ipynb)| [ToC](Index.ipynb) | [6. To come](06.Lecture06.ipynb)>\n"
   ]
  },
  {
   "cell_type": "code",
   "execution_count": 68,
   "metadata": {
    "id": "H_0r41EJdff_"
   },
   "outputs": [
    {
     "ename": "SyntaxError",
     "evalue": "(unicode error) 'unicodeescape' codec can't decode bytes in position 2-3: truncated \\UXXXXXXXX escape (487996395.py, line 1)",
     "output_type": "error",
     "traceback": [
      "\u001b[1;36m  Cell \u001b[1;32mIn[68], line 1\u001b[1;36m\u001b[0m\n\u001b[1;33m    file=open(\"C:\\Users\\Aubrey Undi Phiri\\Desktop\\twxt.txt\", \"r\")\u001b[0m\n\u001b[1;37m              ^\u001b[0m\n\u001b[1;31mSyntaxError\u001b[0m\u001b[1;31m:\u001b[0m (unicode error) 'unicodeescape' codec can't decode bytes in position 2-3: truncated \\UXXXXXXXX escape\n"
     ]
    }
   ],
   "source": [
    "file=open(\"C:\\Users\\Aubrey Undi Phiri\\Desktop\\twxt.txt\", \"r\")\n",
    "a=file.write()\n",
    "print(a)\n",
    "a.close()"
   ]
  },
  {
   "cell_type": "code",
   "execution_count": null,
   "metadata": {},
   "outputs": [],
   "source": []
  },
  {
   "cell_type": "code",
   "execution_count": null,
   "metadata": {},
   "outputs": [],
   "source": []
  }
 ],
 "metadata": {
  "colab": {
   "include_colab_link": true,
   "provenance": []
  },
  "kernelspec": {
   "display_name": "Python 3 (ipykernel)",
   "language": "python",
   "name": "python3"
  },
  "language_info": {
   "codemirror_mode": {
    "name": "ipython",
    "version": 3
   },
   "file_extension": ".py",
   "mimetype": "text/x-python",
   "name": "python",
   "nbconvert_exporter": "python",
   "pygments_lexer": "ipython3",
   "version": "3.12.4"
  }
 },
 "nbformat": 4,
 "nbformat_minor": 4
}
